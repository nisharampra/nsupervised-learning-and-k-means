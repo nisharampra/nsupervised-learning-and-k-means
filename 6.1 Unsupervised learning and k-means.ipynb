{
 "cells": [
  {
   "cell_type": "markdown",
   "metadata": {},
   "source": [
    "# Unsupervised learning and k-means\n",
    "## Instructions:\n",
    "* Go through the notebook and complete the tasks. \n",
    "* Make sure you understand the examples given. If you need any help, refer to the documentation links provided or go to the discussion forum. \n",
    "* When a question allows a free-form answer (e.g. what do you observe?), create a new markdown cell below and answer the question in the notebook. \n",
    "* Save your notebooks when you are done. \n",
    "\n",
    "**Task:**\n",
    "In this notebook, your goal is to design an unsupervised learning classifier based on k-means, and subsequently compare the performance with a supervised learning classifier such as k-NN. The first task relates to loading the IRIS data by using the scikit-learn module (as in previous topic notebooks), and subsequently applying k-means on the iris dataset.  The task is outlined as follows:"
   ]
  },
  {
   "cell_type": "code",
   "execution_count": 4,
   "metadata": {},
   "outputs": [
    {
     "name": "stdout",
     "output_type": "stream",
     "text": [
      "K-NN Accuracy: 0.97\n",
      "K-Means V-Measure Score: 0.76\n"
     ]
    }
   ],
   "source": [
    "#- Load IRIS data using scikit learn (as in previous notebooks).\n",
    "# Import necessary libraries\n",
    "import numpy as np\n",
    "import matplotlib.pyplot as plt\n",
    "from sklearn import datasets\n",
    "from sklearn.cluster import KMeans\n",
    "from sklearn.neighbors import KNeighborsClassifier\n",
    "from sklearn.metrics import accuracy_score, v_measure_score\n",
    "\n",
    "# Load the IRIS dataset\n",
    "iris = datasets.load_iris()\n",
    "X = iris.data\n",
    "y = iris.target\n",
    "\n",
    "\n",
    "#- Apply k-means on the iris dataset.  Note that we cannot use labels in the case of k-means, as we assume this dataset is entirely unlabelled.\n",
    "# Apply k-means clustering\n",
    "kmeans = KMeans(n_clusters=3, random_state=42)  # Set number of clusters to 3\n",
    "kmeans.fit(X)\n",
    "\n",
    "# Get the cluster labels assigned by k-means\n",
    "kmeans_labels = kmeans.labels_\n",
    "\n",
    "\n",
    "#- Use the labels and train a k-NN algorithm (as we saw in previous topics) with scikit-learn.  This is a supervised approach.\n",
    "# Train a k-NN classifier\n",
    "knn = KNeighborsClassifier(n_neighbors=5)  # You can adjust the number of neighbors\n",
    "knn.fit(X, y)\n",
    "\n",
    "# Make predictions on the training set\n",
    "knn_predictions = knn.predict(X)\n",
    "\n",
    "\n",
    "#- Compare the accuracy of k-means on the iris dataset (you can use the function  sklearn.metrics.cluster.v_measure_score) with the accuracy of k-NN.\n",
    "## Observations\n",
    "\n",
    "# Calculate the accuracy of k-NN\n",
    "knn_accuracy = accuracy_score(y, knn_predictions)\n",
    "\n",
    "# Calculate the v-measure score for k-means\n",
    "kmeans_v_measure = v_measure_score(y, kmeans_labels)\n",
    "\n",
    "# Print the results\n",
    "print(\"K-NN Accuracy: {:.2f}\".format(knn_accuracy))\n",
    "print(\"K-Means V-Measure Score: {:.2f}\".format(kmeans_v_measure))\n",
    "\n",
    "### Observations\n",
    "\n",
    "#1. **K-NN Accuracy**: The accuracy score of the k-NN classifier should be very high (close to 1.0) since it is a supervised learning method that uses the actual labels for training.\n",
    "\n",
    "#2. **K-Means V-Measure Score**: The v-measure score for k-means clustering will likely be lower than the k-NN accuracy. This is because k-means is unsupervised and tries to group data based on similarities without knowledge of the true labels.\n",
    "\n",
    "#3. **Comparison**: This exercise highlights the difference between supervised and unsupervised learning. While k-NN can achieve high accuracy by learning from labeled data, k-means relies solely on the data's inherent structure, which may not always correspond to the actual classifications.\n",
    "\n",
    "#4. **Clustering Limitations**: K-means may not perfectly match the true classes (like Setosa, Versicolor, and Virginica) since it may group data differently based on feature similarity rather than the actual class labels.\n"
   ]
  },
  {
   "cell_type": "markdown",
   "metadata": {},
   "source": [
    " To help you undertake this task, you can read the k-means reference, and selecrtion of examples, on scikit-learn <a href=\"http://scikit-learn.org/stable/modules/generated/sklearn.cluster.KMeans.html#examples-using-sklearn-cluster-kmeans\">here</a>. \n"
   ]
  }
 ],
 "metadata": {
  "kernelspec": {
   "display_name": "Python 3",
   "language": "python",
   "name": "python3"
  },
  "language_info": {
   "codemirror_mode": {
    "name": "ipython",
    "version": 3
   },
   "file_extension": ".py",
   "mimetype": "text/x-python",
   "name": "python",
   "nbconvert_exporter": "python",
   "pygments_lexer": "ipython3",
   "version": "3.7.6"
  }
 },
 "nbformat": 4,
 "nbformat_minor": 2
}
